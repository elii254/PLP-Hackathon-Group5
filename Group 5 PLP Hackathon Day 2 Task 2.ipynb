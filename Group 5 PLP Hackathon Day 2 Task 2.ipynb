{
 "cells": [
  {
   "cell_type": "code",
   "execution_count": 4,
   "id": "b988720d",
   "metadata": {},
   "outputs": [
    {
     "name": "stdout",
     "output_type": "stream",
     "text": [
      "Do you love computers and love working alone?\n",
      "yes or no yes\n",
      "you are well on your way to becoming a developer; You need to be resilient and put in very long hours. Hope you are ready!\n"
     ]
    }
   ],
   "source": [
    "dev_answers = []\n",
    "\n",
    "teacher_answers = []\n",
    "\n",
    "careers = ['developer', 'teacher']\n",
    "\n",
    "dev_questions = ['Do you love computers and love working alone?']\n",
    "\n",
    "teach_questions = ['Do you prefer a blackboard and like public speaking?']\n",
    "\n",
    "dev_advice = [\"You need to be resilient and put in very long hours. Hope you are ready!\"]\n",
    "\n",
    "teacher_advice = [\"You need to be with people and very empathetic!\"]\n",
    "\n",
    "\n",
    "career = True\n",
    "\n",
    "for qns, questions in zip(dev_questions, teach_questions):\n",
    "    \n",
    "    while career:\n",
    "        \n",
    "        print(qns)\n",
    "        \n",
    "        dev_answers.append(input('yes or no '))\n",
    "        \n",
    "        if dev_answers.count('yes') == 1:\n",
    "            print(f\"you are well on your way to becoming a {careers[0]}; {dev_advice[0]}\")\n",
    "        \n",
    "            break\n",
    "        \n",
    "        else:\n",
    "            print(\"try teaching\")\n",
    "            career = False            \n",
    "                              \n",
    "               \n",
    "    while not career:   \n",
    "        \n",
    "        print(questions)\n",
    "        \n",
    "        teacher_answers.append(input('yes or no '))\n",
    "            \n",
    "              \n",
    "        if teacher_answers.count('yes') == 1:\n",
    "            print(f\"you are well on your way to becoming a {careers[1]}; {teacher_advice[0]}\")\n",
    "\n",
    "            career = False\n",
    "\n",
    "            break\n",
    "\n",
    "        else:\n",
    "            print(\"try coding\")\n",
    "\n",
    "        break                      "
   ]
  },
  {
   "cell_type": "code",
   "execution_count": null,
   "id": "f0961448",
   "metadata": {},
   "outputs": [],
   "source": []
  }
 ],
 "metadata": {
  "kernelspec": {
   "display_name": "Python 3 (ipykernel)",
   "language": "python",
   "name": "python3"
  },
  "language_info": {
   "codemirror_mode": {
    "name": "ipython",
    "version": 3
   },
   "file_extension": ".py",
   "mimetype": "text/x-python",
   "name": "python",
   "nbconvert_exporter": "python",
   "pygments_lexer": "ipython3",
   "version": "3.9.11"
  }
 },
 "nbformat": 4,
 "nbformat_minor": 5
}
