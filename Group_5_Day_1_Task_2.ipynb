{
  "nbformat": 4,
  "nbformat_minor": 0,
  "metadata": {
    "colab": {
      "name": "Group 5 Day 1 Task 2.ipynb",
      "provenance": []
    },
    "kernelspec": {
      "name": "python3",
      "display_name": "Python 3"
    },
    "language_info": {
      "name": "python"
    }
  },
  "cells": [
    {
      "cell_type": "code",
      "execution_count": 30,
      "metadata": {
        "colab": {
          "base_uri": "https://localhost:8080/"
        },
        "id": "6l9P4OEzXhQx",
        "outputId": "09039a02-48df-4ea8-e760-79ee42eb6557"
      },
      "outputs": [
        {
          "output_type": "stream",
          "name": "stdout",
          "text": [
            "Enter area of wall space in square feet: 67778\n",
            "Number of gallons required: 590\n",
            "Hours of labour: 196 days and 10 hours 34 minutes\n",
            "Enter the price of paint per gallon in dollars: 89\n",
            "the cost of the paint is: 52510.0\n",
            "Labour charges: 94299.83\n",
            "Total cost of the paint job is: 146809.83\n"
          ]
        }
      ],
      "source": [
        "#number of gallons required\n",
        "def painting_job():\n",
        "\n",
        "  import math \n",
        "\n",
        "  wall_area = float(input(\"Enter area of wall space in square feet: \"))\n",
        "\n",
        "  no_of_gallons = math.ceil(wall_area/115)  \n",
        "\n",
        "  print(f\"Number of gallons required: {no_of_gallons}\")\n",
        "\n",
        "\n",
        "  hours_of_labour = (wall_area * 8)/ 115\n",
        "  \n",
        "  print(f\"Hours of labour: {int(hours_of_labour/24)} days and {int(hours_of_labour%24)} hours {int(hours_of_labour%60)} minutes\") \n",
        "\n",
        "\n",
        "  price_of_paint_per_gallon = float(input(\"Enter the price of paint per gallon in dollars: \"))\n",
        "\n",
        "  cost_of_the_paint = no_of_gallons * price_of_paint_per_gallon\n",
        "\n",
        "  print(f\"The cost of the paint is: {cost_of_the_paint}\")\n",
        "\n",
        "\n",
        "  labour_charges = (wall_area * 8 * 20) / 115\n",
        "\n",
        "  print(f\"Labour charges: {round(labour_charges, 2)}\")\n",
        "\n",
        "\n",
        "  total_cost_of_the_paint_job = cost_of_the_paint + labour_charges  \n",
        "  \n",
        "  print(f\"Total cost of the paint job is: {round(total_cost_of_the_paint_job, 2)}\")\n",
        "\n",
        "painting_job()\n",
        "\n",
        "\n",
        "\n",
        "\n",
        "\n",
        "   \n",
        "  \n",
        "\n",
        "\n",
        "\n"
      ]
    },
    {
      "cell_type": "code",
      "source": [
        ""
      ],
      "metadata": {
        "id": "3pDMEuOJCb9A"
      },
      "execution_count": null,
      "outputs": []
    }
  ]
}