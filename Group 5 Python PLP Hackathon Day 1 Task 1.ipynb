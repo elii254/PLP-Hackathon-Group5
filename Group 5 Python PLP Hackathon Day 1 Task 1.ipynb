{
 "cells": [
  {
   "cell_type": "code",
   "execution_count": 4,
   "id": "0ca1ca5b",
   "metadata": {},
   "outputs": [
    {
     "name": "stdout",
     "output_type": "stream",
     "text": [
      "Date:2022-07-09\n",
      "Day: Sat\n",
      "Fare:60\n"
     ]
    }
   ],
   "source": [
    "#Bus Fare Challenge – Task One (Day 1)\n",
    "#Write a program that does the following:\n",
    "#1. Gets today&#39;s date and stores it in a variable &#39;date&#39;\n",
    "#2. Uses today&#39;s date to get the name of the day of the week written in short formnwith the\n",
    "#first letter capitalized eg. &#39;Fri&#39; if today were Friday and assigns it a variable &#39;day&#39;\n",
    "#3. Uses if statements to determine the today&#39;s fare following these bus fare schedule:\n",
    "# Monday - Friday --&gt; 100\n",
    "# Saturday --&gt; 60\n",
    "# Sunday --&gt; 80\n",
    "\n",
    "\n",
    "from datetime import date\n",
    "\n",
    "import calendar\n",
    "\n",
    "date = date.today()\n",
    "\n",
    "print(f\"Date:{date}\")\n",
    "\n",
    "today = calendar.day_name[date.weekday()] \n",
    "\n",
    "today_short_form = date.strftime(\"%a\")\n",
    "\n",
    "print(f\"Day: {today_short_form}\")\n",
    "\n",
    "\n",
    "bus_fares = [100, 60, 80]\n",
    "\n",
    "if today in calendar.day_name[0:5]:\n",
    "    print(f\"Fare:{bus_fares[0]}\")\n",
    "    \n",
    "elif today in calendar.day_name[5]:\n",
    "    print(f\"Fare:{bus_fares[1]}\")\n",
    "    \n",
    "elif today in calendar.day_name[6:]:\n",
    "    print(f\"Fare:{bus_fares[2]}\")   "
   ]
  },
  {
   "cell_type": "code",
   "execution_count": null,
   "id": "ec5d1a61",
   "metadata": {},
   "outputs": [],
   "source": []
  }
 ],
 "metadata": {
  "kernelspec": {
   "display_name": "Python 3 (ipykernel)",
   "language": "python",
   "name": "python3"
  },
  "language_info": {
   "codemirror_mode": {
    "name": "ipython",
    "version": 3
   },
   "file_extension": ".py",
   "mimetype": "text/x-python",
   "name": "python",
   "nbconvert_exporter": "python",
   "pygments_lexer": "ipython3",
   "version": "3.9.11"
  }
 },
 "nbformat": 4,
 "nbformat_minor": 5
}
