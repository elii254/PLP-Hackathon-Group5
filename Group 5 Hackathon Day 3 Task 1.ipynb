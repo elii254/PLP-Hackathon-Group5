{
 "cells": [
  {
   "cell_type": "code",
   "execution_count": 10,
   "id": "51dfed81",
   "metadata": {},
   "outputs": [
    {
     "name": "stdout",
     "output_type": "stream",
     "text": [
      "please enter password: 12345678\n",
      "enter 'open ': open\n",
      "the door is now open, last opened 2022-07-09 16:58:28.070365\n",
      "enter 'close ': close\n",
      "the door is now closed, last closed 2022-07-09 16:58:29.731379\n",
      "do you want to quit?, enter 'quit' gygefeg\n",
      "invalid input\n",
      "do you want to quit?, enter 'quit' rhghfrgyr\n",
      "invalid input\n",
      "do you want to quit?, enter 'quit' quit\n",
      "logging you out...bye!!!\n"
     ]
    }
   ],
   "source": [
    "import datetime\n",
    "\n",
    "password = \"12345678\"\n",
    "\n",
    "while input(\"please enter password: \") != password:  \n",
    "\n",
    "    print(\"wrong password\")\n",
    "    \n",
    "    continue\n",
    "    \n",
    "commands = ['open_door', 'close_door', 'quit']\n",
    "\n",
    "while commands[0] == 'open_door':\n",
    "    open_door = input(\"enter 'open ': \")\n",
    "\n",
    "    if open_door.count('open') > 1:\n",
    "        print(f\"the door is already open, last opened at {datetime.datetime.now()}\") \n",
    "        \n",
    "        break\n",
    "       \n",
    "    else:\n",
    "        print(f\"the door is now open, last opened {datetime.datetime.now()}\")\n",
    "        \n",
    "        break\n",
    "        \n",
    "while commands[1] == 'close_door':\n",
    "    close_door = input(\"enter 'close ': \")\n",
    "\n",
    "    if close_door.count('close') > 1:\n",
    "        print(f\"the door is already closed, last closed {datetime.datetime.now()} \") \n",
    "        \n",
    "        break\n",
    "       \n",
    "    else:\n",
    "        print(f\"the door is now closed, last closed {datetime.datetime.now()}\")\n",
    "        \n",
    "        break\n",
    "        \n",
    "while commands[2] == 'quit':\n",
    "    exit = input(\"do you want to quit?, enter 'quit' \")\n",
    "\n",
    "    if exit == \"quit\":\n",
    "        print(\"logging you out...bye!!!\") \n",
    "        \n",
    "        break\n",
    "        \n",
    "    else:\n",
    "        print(\"invalid input\")   "
   ]
  },
  {
   "cell_type": "code",
   "execution_count": null,
   "id": "735cebe0",
   "metadata": {},
   "outputs": [],
   "source": []
  }
 ],
 "metadata": {
  "kernelspec": {
   "display_name": "Python 3 (ipykernel)",
   "language": "python",
   "name": "python3"
  },
  "language_info": {
   "codemirror_mode": {
    "name": "ipython",
    "version": 3
   },
   "file_extension": ".py",
   "mimetype": "text/x-python",
   "name": "python",
   "nbconvert_exporter": "python",
   "pygments_lexer": "ipython3",
   "version": "3.9.11"
  }
 },
 "nbformat": 4,
 "nbformat_minor": 5
}
