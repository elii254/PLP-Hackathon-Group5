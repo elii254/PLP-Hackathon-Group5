{
 "cells": [
  {
   "cell_type": "code",
   "execution_count": 1,
   "id": "afdcaef8",
   "metadata": {},
   "outputs": [
    {
     "data": {
      "text/plain": [
       "'fat calories: 405 and carb_calories: 1808'"
      ]
     },
     "execution_count": 1,
     "metadata": {},
     "output_type": "execute_result"
    }
   ],
   "source": [
    "def calculate_calories(fat, carbs):    \n",
    "       \n",
    "    fat_calories = fat * 9\n",
    "\n",
    "    carb_calories = carbs * 4\n",
    "    \n",
    "    return f\"fat calories: {fat_calories} and carb_calories: {carb_calories}\"\n",
    "\n",
    "calculate_calories(45, 452)"
   ]
  },
  {
   "cell_type": "code",
   "execution_count": null,
   "id": "4281a699",
   "metadata": {},
   "outputs": [],
   "source": []
  }
 ],
 "metadata": {
  "kernelspec": {
   "display_name": "Python 3 (ipykernel)",
   "language": "python",
   "name": "python3"
  },
  "language_info": {
   "codemirror_mode": {
    "name": "ipython",
    "version": 3
   },
   "file_extension": ".py",
   "mimetype": "text/x-python",
   "name": "python",
   "nbconvert_exporter": "python",
   "pygments_lexer": "ipython3",
   "version": "3.9.11"
  }
 },
 "nbformat": 4,
 "nbformat_minor": 5
}
